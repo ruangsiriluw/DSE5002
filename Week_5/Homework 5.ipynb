{
 "cells": [
  {
   "cell_type": "markdown",
   "id": "88671a38",
   "metadata": {},
   "source": [
    "# Homework 5\n",
    "### Wanida Ruangsiriluk\n",
    "### November 21, 2023"
   ]
  },
  {
   "cell_type": "markdown",
   "id": "822c38b0",
   "metadata": {},
   "source": [
    "Answer each question by writing the Python code needed to perform the task. Please only use the libraries requested in each problem. "
   ]
  },
  {
   "cell_type": "markdown",
   "id": "c25d3684",
   "metadata": {},
   "source": [
    "### Problem 1\n",
    "Load the interest_inflation data from the statsmodels library as a pandas data frame assigned to `df`. Use the function `df.head()` to view the first 5 rows of the data. Notice the first observation is indexed at 0. Unlike R, Python is a 0 based index language which means when you iterate or wish to view the first observation of a data object it will be at the index 0. \n",
    "\n",
    "What do the columns `Dp` and `R` represent? (You can find this using the documentation)\n"
   ]
  },
  {
   "cell_type": "markdown",
   "id": "b24a8b19",
   "metadata": {},
   "source": [
    "Dp is Delta log gdp deflator (changes in log scale of GFP deflator), measure of price inflation/deflation with respect to a specific base year.\n",
    "R  is nominal long term interest rate, an interest rate that is unadjusted for inflation"
   ]
  },
  {
   "cell_type": "code",
   "execution_count": 2,
   "id": "5ea82c48",
   "metadata": {},
   "outputs": [
    {
     "data": {
      "text/html": [
       "<div>\n",
       "<style scoped>\n",
       "    .dataframe tbody tr th:only-of-type {\n",
       "        vertical-align: middle;\n",
       "    }\n",
       "\n",
       "    .dataframe tbody tr th {\n",
       "        vertical-align: top;\n",
       "    }\n",
       "\n",
       "    .dataframe thead th {\n",
       "        text-align: right;\n",
       "    }\n",
       "</style>\n",
       "<table border=\"1\" class=\"dataframe\">\n",
       "  <thead>\n",
       "    <tr style=\"text-align: right;\">\n",
       "      <th></th>\n",
       "      <th>year</th>\n",
       "      <th>quarter</th>\n",
       "      <th>Dp</th>\n",
       "      <th>R</th>\n",
       "    </tr>\n",
       "  </thead>\n",
       "  <tbody>\n",
       "    <tr>\n",
       "      <th>0</th>\n",
       "      <td>1972.0</td>\n",
       "      <td>2.0</td>\n",
       "      <td>-0.003133</td>\n",
       "      <td>0.083</td>\n",
       "    </tr>\n",
       "    <tr>\n",
       "      <th>1</th>\n",
       "      <td>1972.0</td>\n",
       "      <td>3.0</td>\n",
       "      <td>0.018871</td>\n",
       "      <td>0.083</td>\n",
       "    </tr>\n",
       "    <tr>\n",
       "      <th>2</th>\n",
       "      <td>1972.0</td>\n",
       "      <td>4.0</td>\n",
       "      <td>0.024804</td>\n",
       "      <td>0.087</td>\n",
       "    </tr>\n",
       "    <tr>\n",
       "      <th>3</th>\n",
       "      <td>1973.0</td>\n",
       "      <td>1.0</td>\n",
       "      <td>0.016278</td>\n",
       "      <td>0.087</td>\n",
       "    </tr>\n",
       "    <tr>\n",
       "      <th>4</th>\n",
       "      <td>1973.0</td>\n",
       "      <td>2.0</td>\n",
       "      <td>0.000290</td>\n",
       "      <td>0.102</td>\n",
       "    </tr>\n",
       "  </tbody>\n",
       "</table>\n",
       "</div>"
      ],
      "text/plain": [
       "     year  quarter        Dp      R\n",
       "0  1972.0      2.0 -0.003133  0.083\n",
       "1  1972.0      3.0  0.018871  0.083\n",
       "2  1972.0      4.0  0.024804  0.087\n",
       "3  1973.0      1.0  0.016278  0.087\n",
       "4  1973.0      2.0  0.000290  0.102"
      ]
     },
     "execution_count": 2,
     "metadata": {},
     "output_type": "execute_result"
    }
   ],
   "source": [
    "from statsmodels.datasets.interest_inflation.data import load_pandas\n",
    "import numpy as np\n",
    "\n",
    "df = load_pandas().data\n",
    "df.head()\n"
   ]
  },
  {
   "cell_type": "markdown",
   "id": "724b3e2c",
   "metadata": {},
   "source": [
    "### Problem 2\n",
    "Import scipy as sp and numpy as np. Using the `mean()` and `var()` function from scipy, validate that both functions equate to their numpy counterparts against the column `Dp`.\n",
    "\n",
    "By using the scipy library you should receive a warning message. What does the warning message indicate? Which function should you use going forward? "
   ]
  },
  {
   "cell_type": "markdown",
   "id": "0a0a5d79",
   "metadata": {},
   "source": [
    "#Answer:\n",
    "\n",
    "The answers from both libraries are equivalent.  The warning message from using scipy function refers to the function of the future release may not be available.  It suggests to use numpy library instead to go forward."
   ]
  },
  {
   "cell_type": "code",
   "execution_count": 3,
   "id": "83dc8d7f",
   "metadata": {},
   "outputs": [
    {
     "data": {
      "text/plain": [
       "0.008397309906542055"
      ]
     },
     "execution_count": 3,
     "metadata": {},
     "output_type": "execute_result"
    }
   ],
   "source": [
    "import scipy as sp\n",
    "import numpy as np\n",
    "\n",
    "\n",
    "np.mean(df['Dp'])\n"
   ]
  },
  {
   "cell_type": "code",
   "execution_count": 4,
   "id": "629401f7",
   "metadata": {},
   "outputs": [
    {
     "name": "stderr",
     "output_type": "stream",
     "text": [
      "/var/folders/14/1r6k98j90wv9bfq7ymzly7c80000gn/T/ipykernel_60094/2735895050.py:1: DeprecationWarning: scipy.mean is deprecated and will be removed in SciPy 2.0.0, use numpy.mean instead\n",
      "  sp.mean(df['Dp'])\n"
     ]
    },
    {
     "data": {
      "text/plain": [
       "0.008397309906542055"
      ]
     },
     "execution_count": 4,
     "metadata": {},
     "output_type": "execute_result"
    }
   ],
   "source": [
    "sp.mean(df['Dp'])"
   ]
  },
  {
   "cell_type": "code",
   "execution_count": 5,
   "id": "9d9c9c30",
   "metadata": {},
   "outputs": [
    {
     "data": {
      "text/plain": [
       "0.00035296754186450404"
      ]
     },
     "execution_count": 5,
     "metadata": {},
     "output_type": "execute_result"
    }
   ],
   "source": [
    "np.var(df['Dp'])"
   ]
  },
  {
   "cell_type": "code",
   "execution_count": 6,
   "id": "4a1c40b2",
   "metadata": {},
   "outputs": [
    {
     "name": "stderr",
     "output_type": "stream",
     "text": [
      "/var/folders/14/1r6k98j90wv9bfq7ymzly7c80000gn/T/ipykernel_60094/1383872187.py:1: DeprecationWarning: scipy.var is deprecated and will be removed in SciPy 2.0.0, use numpy.var instead\n",
      "  sp.var(df['Dp'])\n"
     ]
    },
    {
     "data": {
      "text/plain": [
       "0.00035296754186450404"
      ]
     },
     "execution_count": 6,
     "metadata": {},
     "output_type": "execute_result"
    }
   ],
   "source": [
    "sp.var(df['Dp'])"
   ]
  },
  {
   "cell_type": "markdown",
   "id": "7334bad9",
   "metadata": {},
   "source": [
    "### Problem 3\n",
    "Fit an OLS regression (linear regression) using the statsmodels api where `y = df['Dp']` and `x = df['R']`. By default OLS estimates the theoretical mean of the dependent variable y. Statsmodels.ols does not fit a constant value by default so be sure to add a constant to `x`. Extract the coefficients into a variable named `res1_coefs`. See the documentation for `params`. Finally print the `summary()` of the model. \n",
    "\n",
    "Documentation: https://www.statsmodels.org/dev/generated/statsmodels.regression.linear_model.OLS.html"
   ]
  },
  {
   "cell_type": "code",
   "execution_count": 10,
   "id": "30e5d02a",
   "metadata": {},
   "outputs": [
    {
     "data": {
      "text/html": [
       "<table class=\"simpletable\">\n",
       "<caption>OLS Regression Results</caption>\n",
       "<tr>\n",
       "  <th>Dep. Variable:</th>           <td>Dp</td>        <th>  R-squared:         </th> <td>   0.018</td>\n",
       "</tr>\n",
       "<tr>\n",
       "  <th>Model:</th>                   <td>OLS</td>       <th>  Adj. R-squared:    </th> <td>   0.009</td>\n",
       "</tr>\n",
       "<tr>\n",
       "  <th>Method:</th>             <td>Least Squares</td>  <th>  F-statistic:       </th> <td>   1.954</td>\n",
       "</tr>\n",
       "<tr>\n",
       "  <th>Date:</th>             <td>Tue, 21 Nov 2023</td> <th>  Prob (F-statistic):</th>  <td> 0.165</td> \n",
       "</tr>\n",
       "<tr>\n",
       "  <th>Time:</th>                 <td>15:27:11</td>     <th>  Log-Likelihood:    </th> <td>  274.44</td>\n",
       "</tr>\n",
       "<tr>\n",
       "  <th>No. Observations:</th>      <td>   107</td>      <th>  AIC:               </th> <td>  -544.9</td>\n",
       "</tr>\n",
       "<tr>\n",
       "  <th>Df Residuals:</th>          <td>   105</td>      <th>  BIC:               </th> <td>  -539.5</td>\n",
       "</tr>\n",
       "<tr>\n",
       "  <th>Df Model:</th>              <td>     1</td>      <th>                     </th>     <td> </td>   \n",
       "</tr>\n",
       "<tr>\n",
       "  <th>Covariance Type:</th>      <td>nonrobust</td>    <th>                     </th>     <td> </td>   \n",
       "</tr>\n",
       "</table>\n",
       "<table class=\"simpletable\">\n",
       "<tr>\n",
       "    <td></td>       <th>coef</th>     <th>std err</th>      <th>t</th>      <th>P>|t|</th>  <th>[0.025</th>    <th>0.975]</th>  \n",
       "</tr>\n",
       "<tr>\n",
       "  <th>const</th> <td>   -0.0031</td> <td>    0.008</td> <td>   -0.370</td> <td> 0.712</td> <td>   -0.020</td> <td>    0.014</td>\n",
       "</tr>\n",
       "<tr>\n",
       "  <th>R</th>     <td>    0.1545</td> <td>    0.111</td> <td>    1.398</td> <td> 0.165</td> <td>   -0.065</td> <td>    0.374</td>\n",
       "</tr>\n",
       "</table>\n",
       "<table class=\"simpletable\">\n",
       "<tr>\n",
       "  <th>Omnibus:</th>       <td>11.018</td> <th>  Durbin-Watson:     </th> <td>   2.552</td>\n",
       "</tr>\n",
       "<tr>\n",
       "  <th>Prob(Omnibus):</th> <td> 0.004</td> <th>  Jarque-Bera (JB):  </th> <td>   3.844</td>\n",
       "</tr>\n",
       "<tr>\n",
       "  <th>Skew:</th>          <td>-0.050</td> <th>  Prob(JB):          </th> <td>   0.146</td>\n",
       "</tr>\n",
       "<tr>\n",
       "  <th>Kurtosis:</th>      <td> 2.077</td> <th>  Cond. No.          </th> <td>    61.2</td>\n",
       "</tr>\n",
       "</table><br/><br/>Notes:<br/>[1] Standard Errors assume that the covariance matrix of the errors is correctly specified."
      ],
      "text/latex": [
       "\\begin{center}\n",
       "\\begin{tabular}{lclc}\n",
       "\\toprule\n",
       "\\textbf{Dep. Variable:}    &        Dp        & \\textbf{  R-squared:         } &     0.018   \\\\\n",
       "\\textbf{Model:}            &       OLS        & \\textbf{  Adj. R-squared:    } &     0.009   \\\\\n",
       "\\textbf{Method:}           &  Least Squares   & \\textbf{  F-statistic:       } &     1.954   \\\\\n",
       "\\textbf{Date:}             & Tue, 21 Nov 2023 & \\textbf{  Prob (F-statistic):} &    0.165    \\\\\n",
       "\\textbf{Time:}             &     15:27:11     & \\textbf{  Log-Likelihood:    } &    274.44   \\\\\n",
       "\\textbf{No. Observations:} &         107      & \\textbf{  AIC:               } &    -544.9   \\\\\n",
       "\\textbf{Df Residuals:}     &         105      & \\textbf{  BIC:               } &    -539.5   \\\\\n",
       "\\textbf{Df Model:}         &           1      & \\textbf{                     } &             \\\\\n",
       "\\textbf{Covariance Type:}  &    nonrobust     & \\textbf{                     } &             \\\\\n",
       "\\bottomrule\n",
       "\\end{tabular}\n",
       "\\begin{tabular}{lcccccc}\n",
       "               & \\textbf{coef} & \\textbf{std err} & \\textbf{t} & \\textbf{P$> |$t$|$} & \\textbf{[0.025} & \\textbf{0.975]}  \\\\\n",
       "\\midrule\n",
       "\\textbf{const} &      -0.0031  &        0.008     &    -0.370  &         0.712        &       -0.020    &        0.014     \\\\\n",
       "\\textbf{R}     &       0.1545  &        0.111     &     1.398  &         0.165        &       -0.065    &        0.374     \\\\\n",
       "\\bottomrule\n",
       "\\end{tabular}\n",
       "\\begin{tabular}{lclc}\n",
       "\\textbf{Omnibus:}       & 11.018 & \\textbf{  Durbin-Watson:     } &    2.552  \\\\\n",
       "\\textbf{Prob(Omnibus):} &  0.004 & \\textbf{  Jarque-Bera (JB):  } &    3.844  \\\\\n",
       "\\textbf{Skew:}          & -0.050 & \\textbf{  Prob(JB):          } &    0.146  \\\\\n",
       "\\textbf{Kurtosis:}      &  2.077 & \\textbf{  Cond. No.          } &     61.2  \\\\\n",
       "\\bottomrule\n",
       "\\end{tabular}\n",
       "%\\caption{OLS Regression Results}\n",
       "\\end{center}\n",
       "\n",
       "Notes: \\newline\n",
       " [1] Standard Errors assume that the covariance matrix of the errors is correctly specified."
      ],
      "text/plain": [
       "<class 'statsmodels.iolib.summary.Summary'>\n",
       "\"\"\"\n",
       "                            OLS Regression Results                            \n",
       "==============================================================================\n",
       "Dep. Variable:                     Dp   R-squared:                       0.018\n",
       "Model:                            OLS   Adj. R-squared:                  0.009\n",
       "Method:                 Least Squares   F-statistic:                     1.954\n",
       "Date:                Tue, 21 Nov 2023   Prob (F-statistic):              0.165\n",
       "Time:                        15:27:11   Log-Likelihood:                 274.44\n",
       "No. Observations:                 107   AIC:                            -544.9\n",
       "Df Residuals:                     105   BIC:                            -539.5\n",
       "Df Model:                           1                                         \n",
       "Covariance Type:            nonrobust                                         \n",
       "==============================================================================\n",
       "                 coef    std err          t      P>|t|      [0.025      0.975]\n",
       "------------------------------------------------------------------------------\n",
       "const         -0.0031      0.008     -0.370      0.712      -0.020       0.014\n",
       "R              0.1545      0.111      1.398      0.165      -0.065       0.374\n",
       "==============================================================================\n",
       "Omnibus:                       11.018   Durbin-Watson:                   2.552\n",
       "Prob(Omnibus):                  0.004   Jarque-Bera (JB):                3.844\n",
       "Skew:                          -0.050   Prob(JB):                        0.146\n",
       "Kurtosis:                       2.077   Cond. No.                         61.2\n",
       "==============================================================================\n",
       "\n",
       "Notes:\n",
       "[1] Standard Errors assume that the covariance matrix of the errors is correctly specified.\n",
       "\"\"\""
      ]
     },
     "execution_count": 10,
     "metadata": {},
     "output_type": "execute_result"
    }
   ],
   "source": [
    "import statsmodels.api as sm\n",
    "import numpy as np\n",
    "import pandas as pd\n",
    "\n",
    "y = df['Dp'] \n",
    "x = sm.add_constant(df['R'])\n",
    "\n",
    "res1 = sm.OLS(y, x).fit()\n",
    "res1_coefs = res1.params\n",
    "\n",
    "res1.summary()"
   ]
  },
  {
   "cell_type": "code",
   "execution_count": 11,
   "id": "3f37a3b3",
   "metadata": {},
   "outputs": [
    {
     "name": "stdout",
     "output_type": "stream",
     "text": [
      "const   -0.003126\n",
      "R        0.154512\n",
      "dtype: float64\n"
     ]
    }
   ],
   "source": [
    "print(res1_coefs)"
   ]
  },
  {
   "cell_type": "markdown",
   "id": "f630fe6c",
   "metadata": {},
   "source": [
    "### Probelm 4\n",
    "Fit a quantile regression model using the statsmodels api using the formula `Dp ~ R`. By default quantreg creates a constant so there is no need to add one to this model. In your `fit()` method be sure to set `q = 0.5` so that we are estimating the theoritical median.  Extract the coefficients into a variable named `res2_coefs`.  Finally print the `summary()` of the model. \n",
    "\n",
    "\n",
    "Documentation: https://www.statsmodels.org/dev/generated/statsmodels.regression.quantile_regression.QuantReg.html"
   ]
  },
  {
   "cell_type": "code",
   "execution_count": 14,
   "id": "4731c2e4",
   "metadata": {},
   "outputs": [
    {
     "data": {
      "text/html": [
       "<table class=\"simpletable\">\n",
       "<caption>QuantReg Regression Results</caption>\n",
       "<tr>\n",
       "  <th>Dep. Variable:</th>        <td>Dp</td>        <th>  Pseudo R-squared:  </th> <td> 0.02100</td>\n",
       "</tr>\n",
       "<tr>\n",
       "  <th>Model:</th>             <td>QuantReg</td>     <th>  Bandwidth:         </th> <td> 0.02021</td>\n",
       "</tr>\n",
       "<tr>\n",
       "  <th>Method:</th>          <td>Least Squares</td>  <th>  Sparsity:          </th> <td> 0.05748</td>\n",
       "</tr>\n",
       "<tr>\n",
       "  <th>Date:</th>          <td>Tue, 21 Nov 2023</td> <th>  No. Observations:  </th>  <td>   107</td> \n",
       "</tr>\n",
       "<tr>\n",
       "  <th>Time:</th>              <td>15:48:09</td>     <th>  Df Residuals:      </th>  <td>   105</td> \n",
       "</tr>\n",
       "<tr>\n",
       "  <th> </th>                      <td> </td>        <th>  Df Model:          </th>  <td>     1</td> \n",
       "</tr>\n",
       "</table>\n",
       "<table class=\"simpletable\">\n",
       "<tr>\n",
       "    <td></td>       <th>coef</th>     <th>std err</th>      <th>t</th>      <th>P>|t|</th>  <th>[0.025</th>    <th>0.975]</th>  \n",
       "</tr>\n",
       "<tr>\n",
       "  <th>const</th> <td>   -0.0054</td> <td>    0.013</td> <td>   -0.417</td> <td> 0.677</td> <td>   -0.031</td> <td>    0.020</td>\n",
       "</tr>\n",
       "<tr>\n",
       "  <th>R</th>     <td>    0.1818</td> <td>    0.169</td> <td>    1.075</td> <td> 0.285</td> <td>   -0.153</td> <td>    0.517</td>\n",
       "</tr>\n",
       "</table>"
      ],
      "text/latex": [
       "\\begin{center}\n",
       "\\begin{tabular}{lclc}\n",
       "\\toprule\n",
       "\\textbf{Dep. Variable:} &        Dp        & \\textbf{  Pseudo R-squared:  } &   0.02100   \\\\\n",
       "\\textbf{Model:}         &     QuantReg     & \\textbf{  Bandwidth:         } &   0.02021   \\\\\n",
       "\\textbf{Method:}        &  Least Squares   & \\textbf{  Sparsity:          } &   0.05748   \\\\\n",
       "\\textbf{Date:}          & Tue, 21 Nov 2023 & \\textbf{  No. Observations:  } &      107    \\\\\n",
       "\\textbf{Time:}          &     15:48:09     & \\textbf{  Df Residuals:      } &      105    \\\\\n",
       "\\textbf{ }              &                  & \\textbf{  Df Model:          } &        1    \\\\\n",
       "\\bottomrule\n",
       "\\end{tabular}\n",
       "\\begin{tabular}{lcccccc}\n",
       "               & \\textbf{coef} & \\textbf{std err} & \\textbf{t} & \\textbf{P$> |$t$|$} & \\textbf{[0.025} & \\textbf{0.975]}  \\\\\n",
       "\\midrule\n",
       "\\textbf{const} &      -0.0054  &        0.013     &    -0.417  &         0.677        &       -0.031    &        0.020     \\\\\n",
       "\\textbf{R}     &       0.1818  &        0.169     &     1.075  &         0.285        &       -0.153    &        0.517     \\\\\n",
       "\\bottomrule\n",
       "\\end{tabular}\n",
       "%\\caption{QuantReg Regression Results}\n",
       "\\end{center}"
      ],
      "text/plain": [
       "<class 'statsmodels.iolib.summary.Summary'>\n",
       "\"\"\"\n",
       "                         QuantReg Regression Results                          \n",
       "==============================================================================\n",
       "Dep. Variable:                     Dp   Pseudo R-squared:              0.02100\n",
       "Model:                       QuantReg   Bandwidth:                     0.02021\n",
       "Method:                 Least Squares   Sparsity:                      0.05748\n",
       "Date:                Tue, 21 Nov 2023   No. Observations:                  107\n",
       "Time:                        15:48:09   Df Residuals:                      105\n",
       "                                        Df Model:                            1\n",
       "==============================================================================\n",
       "                 coef    std err          t      P>|t|      [0.025      0.975]\n",
       "------------------------------------------------------------------------------\n",
       "const         -0.0054      0.013     -0.417      0.677      -0.031       0.020\n",
       "R              0.1818      0.169      1.075      0.285      -0.153       0.517\n",
       "==============================================================================\n",
       "\"\"\""
      ]
     },
     "execution_count": 14,
     "metadata": {},
     "output_type": "execute_result"
    }
   ],
   "source": [
    "res2 = sm.QuantReg(y, x).fit(q = 0.5)\n",
    "res2_coefs = res2.params\n",
    "res2.summary()\n"
   ]
  },
  {
   "cell_type": "code",
   "execution_count": 15,
   "id": "66535a18",
   "metadata": {},
   "outputs": [
    {
     "name": "stdout",
     "output_type": "stream",
     "text": [
      "const   -0.005388\n",
      "R        0.181800\n",
      "dtype: float64\n"
     ]
    }
   ],
   "source": [
    "print(res2_coefs)"
   ]
  },
  {
   "cell_type": "markdown",
   "id": "2d0d47d5",
   "metadata": {},
   "source": [
    "### Problem 5\n",
    "\n",
    "Part 1: Use the `type()` method to determine the type of `res1_coefs` and `res2_coefs`. Print the type in a Jupyter cell. \n",
    "\n",
    "Part 2: In the next Jupyter cell show that `res1_coefs > res2_coefs`. What does the error mean? To resolve this error we must convert the data to an unnamed object or change the names of the objects. Since we are not focusing on pandas this week we will simply convert to a different data type.\n",
    "\n",
    "Part 3: Now, do the same comparision using the `tolist()` function at the end of each object name. \n",
    "\n",
    "Part 4: We performed two types of linear regression and compared their coefficients. Coefficients are essentially the rate at which x changes the values of y. Do some research on what OLS estimates versus what quantreg estimates and explain why we have two different coefficient estimates. In which cases do you think quantile regression will be useful? What about ordinary least squares regression? "
   ]
  },
  {
   "cell_type": "code",
   "execution_count": 20,
   "id": "554fbe9a",
   "metadata": {},
   "outputs": [
    {
     "data": {
      "text/plain": [
       "pandas.core.series.Series"
      ]
     },
     "execution_count": 20,
     "metadata": {},
     "output_type": "execute_result"
    }
   ],
   "source": [
    "#Part 1\n",
    "\n",
    "type(res1_coefs)"
   ]
  },
  {
   "cell_type": "code",
   "execution_count": 21,
   "id": "a1d0a65e",
   "metadata": {},
   "outputs": [
    {
     "data": {
      "text/plain": [
       "pandas.core.series.Series"
      ]
     },
     "execution_count": 21,
     "metadata": {},
     "output_type": "execute_result"
    }
   ],
   "source": [
    "type(res2_coefs)"
   ]
  },
  {
   "cell_type": "code",
   "execution_count": 22,
   "id": "2d8385e5",
   "metadata": {},
   "outputs": [
    {
     "data": {
      "text/plain": [
       "const     True\n",
       "R        False\n",
       "dtype: bool"
      ]
     },
     "execution_count": 22,
     "metadata": {},
     "output_type": "execute_result"
    }
   ],
   "source": [
    "#Part 2\n",
    "\n",
    "res1_coefs > res2_coefs"
   ]
  },
  {
   "cell_type": "markdown",
   "id": "340e88f7",
   "metadata": {},
   "source": [
    "#Note that the above syntax did not show error."
   ]
  },
  {
   "cell_type": "code",
   "execution_count": 29,
   "id": "e75e19e7",
   "metadata": {},
   "outputs": [
    {
     "data": {
      "text/plain": [
       "True"
      ]
     },
     "execution_count": 29,
     "metadata": {},
     "output_type": "execute_result"
    }
   ],
   "source": [
    "#Part 3\n",
    "ols_coefs = res1_coefs\n",
    "qreg_coefs = res2_coefs\n",
    "ols_coefs.tolist() > qreg_coefs.tolist()"
   ]
  },
  {
   "cell_type": "markdown",
   "id": "c0c8c7cd",
   "metadata": {},
   "source": [
    "### Problem 6\n",
    "What are the advantages of using Python as a general purpose programming language? What are the disadvantages? Why do you think data scientists and machine learning engineers prefer Python over other statistically focused languages like R? Your answer should a paragraph for: (1) advantages, (2) disadvantages, and (3) why its popular. Please cite each source used in your answer. "
   ]
  },
  {
   "attachments": {},
   "cell_type": "markdown",
   "id": "560b84d6",
   "metadata": {},
   "source": [
    "#Answer:\n",
    "\n",
    "The advantage of using Python is that the code can be run across different platforms (Windows, macOS, Linux, etc.). The language is user-friendly and easily understandable or followed (1). It is also widely used globally, so there will be many libraries, framework resources, and tools, available to use in different applications from developers, and many are free under Open Source Initiative (OSI) license (2),(3). The code can be run right away after being written without the need for compiling steps (4). Because of these advantages of using Python, there is also robust and growing community support which is attractive to users and makes Python popular (5). Disadvantages of using Python include slow speed because the program is interpreted and dynamically typed and will use the computer RAM intensively (4). It is also prone to runtime errors as the data types of variables in Python can change suddenly, as it is a dynamically typed language (6). And because of its simplicity, Python can be misused for tasks where better alternatives are being ignored. It’s also not commonly used in large enterprises because Python has limitations in database access for complex legacy data since it’s still underdeveloped (7).\n",
    "\n",
    "\n",
    "1. https://www.geeksforgeeks.org/python-for-data-science/\n",
    "2. https://onlinedegrees.sandiego.edu/python-for-data-science/\n",
    "3. https://opensource.org/osd/\n",
    "4. https://www.linode.com/docs/guides/pros-and-cons-of-python/\n",
    "5. https://www.analyticsinsight.net/10-reasons-why-python-is-one-of-the-best-programming-languages/\n",
    "6. https://webandcrafts.com/blog/advantages-and-disadvantages-of-python\n",
    "7. https://pythonistaplanet.com/disadvantages-of-python/"
   ]
  },
  {
   "cell_type": "markdown",
   "id": "a1ac1049",
   "metadata": {},
   "source": []
  }
 ],
 "metadata": {
  "kernelspec": {
   "display_name": "Python 3 (ipykernel)",
   "language": "python",
   "name": "python3"
  },
  "language_info": {
   "codemirror_mode": {
    "name": "ipython",
    "version": 3
   },
   "file_extension": ".py",
   "mimetype": "text/x-python",
   "name": "python",
   "nbconvert_exporter": "python",
   "pygments_lexer": "ipython3",
   "version": "3.11.5"
  }
 },
 "nbformat": 4,
 "nbformat_minor": 5
}
