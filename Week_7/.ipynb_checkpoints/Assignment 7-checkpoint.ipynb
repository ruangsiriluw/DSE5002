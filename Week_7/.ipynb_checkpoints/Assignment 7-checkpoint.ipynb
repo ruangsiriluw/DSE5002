{
 "cells": [
  {
   "cell_type": "markdown",
   "id": "5b5258fe",
   "metadata": {},
   "source": [
    "# Assignment 7\n",
    "### Wanida Ruangsiriluk\n",
    "### December 6, 2023"
   ]
  },
  {
   "cell_type": "markdown",
   "id": "c0ebfbde",
   "metadata": {},
   "source": [
    "## Question 1\n",
    "A palindrome is a word, phrase, or sequence that is the same spelled forward as it is backwards.\n",
    "Write a function using a for-loop to determine if a string is a palindrome. Your function should only have one argument. "
   ]
  },
  {
   "cell_type": "code",
   "execution_count": 1,
   "id": "75b35247",
   "metadata": {},
   "outputs": [
    {
     "name": "stdout",
     "output_type": "stream",
     "text": [
      "rotator is a palindrome\n",
      "yellow is not a palindrome\n"
     ]
    }
   ],
   "source": [
    "def palindrome(string):\n",
    "    if (string == string[::-1]):\n",
    "        return f\"{string} is a palindrome\"\n",
    "    else:\n",
    "        return f\"{string} is not a palindrome\"\n",
    "\n",
    "        \n",
    "#Test function:\n",
    "print(palindrome(\"rotator\"))\n",
    "print(palindrome(\"yellow\"))\n"
   ]
  },
  {
   "cell_type": "markdown",
   "id": "c6916bad",
   "metadata": {},
   "source": [
    "## Question 2\n",
    "Write a function using a while-loop to determine if a string is a palindrome. Your function should only have one argument. "
   ]
  },
  {
   "cell_type": "code",
   "execution_count": 3,
   "id": "c0f1525d",
   "metadata": {},
   "outputs": [
    {
     "name": "stdout",
     "output_type": "stream",
     "text": [
      "level is a palindrome.\n",
      "white is not a palindrome.\n"
     ]
    }
   ],
   "source": [
    "def palindrome_check(string):\n",
    "    length = len(string)\n",
    "    first = 0\n",
    "    last = length -1\n",
    "    while first < last:\n",
    "        if string[first] == string[last]:\n",
    "            first += 1\n",
    "            last -= 1\n",
    "        else:\n",
    "            return f\"{string} is not a palindrome.\"\n",
    "        \n",
    "        return f\"{string} is a palindrome.\"\n",
    "\n",
    "print(palindrome_check(\"level\"))\n",
    "print(palindrome_check(\"white\"))"
   ]
  },
  {
   "cell_type": "markdown",
   "id": "d85c8321",
   "metadata": {},
   "source": [
    "## Question 3\n",
    "Two Sum - Write a function named two_sum()\n",
    "Given a vector of integers nums and an integer target, return indices of the two numbers such that they add\n",
    "up to target. You may assume that each input would have exactly one solution, and you may not use the same element\n",
    "twice. You can return the answer in any order.Use defaultdict and hash maps/tables to complete this problem. \n",
    "\n",
    "Example 1:\n",
    "Input: `nums = [2,7,11,15]`, target = 9 Output: `[0,1]` Explanation: Because `nums[0] + nums[1] == 9`, we\n",
    "return `[0, 1]`. \n",
    "\n",
    "Example 2:\n",
    "Input: `nums = [3,2,4]`, `target = 6 Output: [1,2]` \n",
    "\n",
    "Example 3:\n",
    "Input: `nums = [3,3]`, `target = 6 Output: [0,1]`\n",
    "\n",
    "Constraints:\n",
    "`2 <= nums.length <= 104 –109 <= nums[i] <= 109 –109 <= target <= 109` Only one valid answer exists."
   ]
  },
  {
   "cell_type": "code",
   "execution_count": 1,
   "id": "46a63aa3",
   "metadata": {},
   "outputs": [],
   "source": [
    "from collections import defaultdict            \n",
    "\n",
    "\n",
    "def two_sum(nums, target):\n",
    "    indices = defaultdict(list)\n",
    "    \n",
    "    for i, nums in enumerate(nums):\n",
    "        complement = target - nums   \n",
    "        \n",
    "        if complement in indices:\n",
    "            return indices[complement], [i]\n",
    "        indices[nums].append(i)"
   ]
  },
  {
   "cell_type": "code",
   "execution_count": 2,
   "id": "f616c092",
   "metadata": {},
   "outputs": [
    {
     "name": "stdout",
     "output_type": "stream",
     "text": [
      "([0], [1])\n"
     ]
    }
   ],
   "source": [
    "#Example1\n",
    "nums = [2, 7, 11, 15]\n",
    "target = 9\n",
    "result = two_sum(nums, target)\n",
    "print(result)\n"
   ]
  },
  {
   "cell_type": "code",
   "execution_count": 3,
   "id": "a2270b3c",
   "metadata": {},
   "outputs": [
    {
     "name": "stdout",
     "output_type": "stream",
     "text": [
      "([1], [2])\n"
     ]
    }
   ],
   "source": [
    "#Example 2\n",
    "\n",
    "nums = [3,2,4]\n",
    "target = 6\n",
    "result = two_sum(nums, target)\n",
    "print(result)\n"
   ]
  },
  {
   "cell_type": "code",
   "execution_count": 4,
   "id": "3d46e30e",
   "metadata": {},
   "outputs": [
    {
     "name": "stdout",
     "output_type": "stream",
     "text": [
      "([0], [1])\n"
     ]
    }
   ],
   "source": [
    "#Example 3\n",
    "\n",
    "nums = [3,3]\n",
    "target = 6\n",
    "result = two_sum(nums, target)\n",
    "print(result)\n"
   ]
  },
  {
   "cell_type": "code",
   "execution_count": 5,
   "id": "cec0d8f4",
   "metadata": {},
   "outputs": [
    {
     "name": "stdout",
     "output_type": "stream",
     "text": [
      "None\n"
     ]
    }
   ],
   "source": [
    "#Example 4, Test code if there is no results\n",
    "nums = [3,2,4]\n",
    "target = 10\n",
    "result = two_sum(nums, target)\n",
    "print(result)"
   ]
  },
  {
   "cell_type": "markdown",
   "id": "3b1c3ec5",
   "metadata": {},
   "source": [
    "## Question 4\n",
    "How is a negative index used in Python? Show an example"
   ]
  },
  {
   "cell_type": "markdown",
   "id": "a8d13bdc",
   "metadata": {},
   "source": [
    "Negative index is used to call value of a list or array from the end of a list.  The syntax will include -1 as the last index.   For example:\n",
    "To print each letter of a word backward, len(word) -1 = n-1 = # of loops from the lenth of a word.  The second -1 is a negative or the last index, and the thrid -1 = stepwise backward"
   ]
  },
  {
   "cell_type": "code",
   "execution_count": 8,
   "id": "abbecca6",
   "metadata": {},
   "outputs": [
    {
     "name": "stdout",
     "output_type": "stream",
     "text": [
      "e\n",
      "l\n",
      "p\n",
      "p\n",
      "a\n",
      "e\n",
      "n\n",
      "i\n",
      "p\n"
     ]
    }
   ],
   "source": [
    "\n",
    "word = \"pineapple\"\n",
    "for i in range(len(word) -1, -1, -1):\n",
    "    print(word[i])\n"
   ]
  },
  {
   "cell_type": "markdown",
   "id": "3128782b",
   "metadata": {},
   "source": [
    "## Question 5\n",
    "Check if two given strings are isomorphic to each other. Two strings str1 and str2 are called isomorphic if there is a one-to-one mapping possible for every character of str1 to every character of str2. And all occurrences of every character in ‘str1’ map to the same character in ‘str2’.\n",
    "\n",
    "`Input:  str1 = \"aab\", str2 = \"xxy\"`\n",
    "\n",
    "`Output: True`\n",
    "\n",
    "`'a' is mapped to 'x' and 'b' is mapped to 'y'.`\n",
    "\n",
    "`Input:  str1 = \"aab\", str2 = \"xyz\"`\n",
    "\n",
    "`Output: False`\n",
    "\n",
    "`One occurrence of 'a' in str1 has 'x' in str2 and other occurrence of 'a' has 'y'.`\n",
    "\n",
    "A Simple Solution is to consider every character of ‘str1’ and check if all occurrences of it map to the same character in ‘str2’. The time complexity of this solution is O(n*n).\n",
    "\n",
    "An Efficient Solution can solve this problem in O(n) time. The idea is to create an array to store mappings of processed characters. \n"
   ]
  },
  {
   "cell_type": "code",
   "execution_count": 30,
   "id": "53f3a149",
   "metadata": {},
   "outputs": [
    {
     "name": "stdout",
     "output_type": "stream",
     "text": [
      "True\n"
     ]
    }
   ],
   "source": [
    "str1 = \"aab\"\n",
    "str2 = \"xxy\"\n",
    "\n",
    "\n",
    "def two_strings(str1, str2):\n",
    "    if len(str1) != len(str2):\n",
    "        return False\n",
    "    \n",
    "    mapping_str1 = {} \n",
    "    mapping_seen = set() \n",
    "    \n",
    "    for i in range(len(str1)):\n",
    "        str1_char = str1[i]\n",
    "        str2_char = str2[i]\n",
    "        \n",
    "        if str1_char in mapping_str1:\n",
    "            if mapping_str1[str1_char] != str2_char:\n",
    "                return False    \n",
    "            \n",
    "        elif str2_char in mapping_seen:\n",
    "            return False\n",
    "    \n",
    "        mapping_str1[str1_char] = str2_char\n",
    "        mapping_seen.add(str2_char)\n",
    "        \n",
    "    return True\n",
    "\n",
    "            \n",
    "print(two_strings(str1, str2))\n"
   ]
  },
  {
   "cell_type": "code",
   "execution_count": 32,
   "id": "177e099c",
   "metadata": {},
   "outputs": [
    {
     "name": "stdout",
     "output_type": "stream",
     "text": [
      "False\n"
     ]
    }
   ],
   "source": [
    "str1 = \"aab\"\n",
    "str2 = \"xyz\"\n",
    "\n",
    "print(two_strings(str1, str2))"
   ]
  },
  {
   "cell_type": "code",
   "execution_count": null,
   "id": "0074c17a",
   "metadata": {},
   "outputs": [],
   "source": []
  }
 ],
 "metadata": {
  "kernelspec": {
   "display_name": "Python 3 (ipykernel)",
   "language": "python",
   "name": "python3"
  },
  "language_info": {
   "codemirror_mode": {
    "name": "ipython",
    "version": 3
   },
   "file_extension": ".py",
   "mimetype": "text/x-python",
   "name": "python",
   "nbconvert_exporter": "python",
   "pygments_lexer": "ipython3",
   "version": "3.11.5"
  }
 },
 "nbformat": 4,
 "nbformat_minor": 5
}
